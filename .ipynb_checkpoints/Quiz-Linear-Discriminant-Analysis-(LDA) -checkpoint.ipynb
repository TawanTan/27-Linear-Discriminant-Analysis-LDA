{
 "cells": [
  {
   "cell_type": "code",
   "execution_count": 1,
   "metadata": {},
   "outputs": [],
   "source": [
    "import numpy as np \n",
    "import pandas as pd \n",
    "import seaborn as sns\n",
    "import plotly.express as px\n",
    "import matplotlib.pyplot as plt \n",
    "%matplotlib inline\n",
    "\n",
    "from sklearn.model_selection import train_test_split\n",
    "from sklearn.preprocessing import StandardScaler\n",
    "from sklearn.model_selection import GridSearchCV\n",
    "\n",
    "from sklearn.metrics import accuracy_score, f1_score, precision_score, recall_score \n",
    "from sklearn.metrics import confusion_matrix"
   ]
  },
  {
   "cell_type": "code",
   "execution_count": 1,
   "metadata": {},
   "outputs": [
    {
     "ename": "NameError",
     "evalue": "name 'pd' is not defined",
     "output_type": "error",
     "traceback": [
      "\u001b[0;31m---------------------------------------------------------------------------\u001b[0m",
      "\u001b[0;31mNameError\u001b[0m                                 Traceback (most recent call last)",
      "\u001b[0;32m<ipython-input-1-5b2319696b79>\u001b[0m in \u001b[0;36m<module>\u001b[0;34m\u001b[0m\n\u001b[0;32m----> 1\u001b[0;31m \u001b[0mdf\u001b[0m \u001b[0;34m=\u001b[0m \u001b[0mpd\u001b[0m\u001b[0;34m.\u001b[0m\u001b[0mread_csv\u001b[0m\u001b[0;34m(\u001b[0m\u001b[0;34m)\u001b[0m\u001b[0;34m\u001b[0m\u001b[0;34m\u001b[0m\u001b[0m\n\u001b[0m",
      "\u001b[0;31mNameError\u001b[0m: name 'pd' is not defined"
     ]
    }
   ],
   "source": [
    "df = pd.read_csv()"
   ]
  },
  {
   "cell_type": "markdown",
   "metadata": {},
   "source": [
    "1. โหลด csv เข้าไปใน Python Pandas\n",
    "\n",
    "2. เขียนโค้ดแสดง หัว10แถว ท้าย10แถว และสุ่ม10แถว\n",
    "\n",
    "3. เช็คว่ามีข้อมูลที่หายไปไหม สามารถจัดการได้ตามความเหมาะสม\n",
    "\n",
    "4. ใช้ info และ describe อธิบายข้อมูลเบื้องต้น\n",
    "\n",
    "5. ใช้ pairplot ดูความสัมพันธ์เบื้องต้นของ features ที่สนใจ\n"
   ]
  },
  {
   "cell_type": "markdown",
   "metadata": {},
   "source": [
    "6. ใช้ displot เพื่อดูการกระจายของแต่ละคอลัมน์\n",
    "\n",
    "7. ใช้ heatmap ดูความสัมพันธ์ของคอลัมน์ที่สนใจ\n",
    "\n",
    "8. สร้าง scatter plot ของความสัมพันธ์ที่มี Correlation สูงสุด\n",
    "\n",
    "9. สร้าง scatter plot ของความสัมพันธ์ที่มี Correlation ต่ำสุด\n",
    "\n",
    "10. สร้าง histogram ของ feature เพื่อดูการกระจายตัวของข้อมูล\n"
   ]
  },
  {
   "cell_type": "markdown",
   "metadata": {},
   "source": [
    "11. สร้าง boxplot เพื่อเช็ค outliers ของแต่ละฟีเจอร์\n",
    "\n",
    "12. จัดการกับ Outliers ได้ตามความเหมาะสม\n",
    "\n",
    "13. สร้าง train/test split ของข้อมูล ด้วย 70:30 ratio \n",
    "\n",
    "14. ทำ Standardization ให้ X_train, X_test\n",
    "\n",
    "15. เลือกชนิดของ Baseline โมเดล 3 ชนิด \n",
    "(ซ้ำกับ PCA 2 ชนิด และ อันใหม่ 1 ชนิด)\n"
   ]
  },
  {
   "cell_type": "markdown",
   "metadata": {},
   "source": [
    "16. เทรนโมเดลทั้ง 3 ชนิด\n",
    "\n",
    "17. วัดผลโมเดล โดยใช้ confusion matrix และ ประเมินผลด้วยคะแนน Accuracy, \n",
    "F1 score, Recall, Precision (ทั้งแบบ micro, macro)\n",
    "\n",
    "18. ทำ hyperparameter tuning ด้วย GridSearchCV\n",
    "\n",
    "19. วัดผลโมเดลใหม่ โดยใช้ confusion matrix และ ประเมินผลด้วยคะแนน Accuracy, \n",
    "F1 score, Recall, Precision (ทั้งแบบ micro, macro)\n",
    "\n",
    "20. ทำ LDA โดยกำหนดให้มี output = 2 components\n"
   ]
  },
  {
   "cell_type": "markdown",
   "metadata": {},
   "source": [
    "21. ทำ Clustering Visualization ของ Features ต่อผลลัพธ์ทั้ง 3 Classes\n",
    "\n",
    "22. เทรนโมเดลทั้ง 3 ชนิดกับข้อมูล LDA\n",
    "\n",
    "23. วัดผลโมเดล โดยใช้ confusion matrix และ ประเมินผลด้วยคะแนน Accuracy, \n",
    "F1 score, Recall, Precision (ทั้งแบบ micro, macro)\n"
   ]
  },
  {
   "cell_type": "markdown",
   "metadata": {},
   "source": [
    "24. ทำ Hyperparameter tuning ด้วย GridSearchCV กับโมเดลใหม่\n",
    "\n",
    "25. วัดผลโมเดลใหม่ โดยใช้ confusion matrix และ ประเมินผลด้วยคะแนน Accuracy, \n",
    "F1 score, Recall, Precision (ทั้งแบบ micro, macro)\n",
    "\n",
    "26. ทำ Data Visualization ค่า Acc ของทุกโมเดลที่ทำมาด้วย plotly\n"
   ]
  },
  {
   "cell_type": "markdown",
   "metadata": {},
   "source": [
    "27. ทำ Data Visualization ค่า F1 Score ของทุกโมเดลที่ทำมา \n",
    "ทั้งแบบ Micro และ Macro อยู่ในกราฟเดียวกัน\n",
    "\n",
    "\n",
    "28.ทำ Data Visualization ค่า Precision ของทุกโมเดลที่ทำมา\n",
    "ทั้งแบบ Micro และ Macro อยู่ในกราฟเดียวกัน\n",
    "\n",
    "\n",
    "29. ทำ Data Visualization ค่า Recall ของทุกโมเดลที่ทำมา\n",
    "ทั้งแบบ Micro และ Macro อยู่ในกราฟเดียวกัน\n"
   ]
  },
  {
   "cell_type": "markdown",
   "metadata": {},
   "source": [
    "30. ทำ Data Visualization ค่า Accuracy, F1 Score, Precision, Recall ของโมเดล 2 ชนิดที่ทำ PCA และ LDA เพื่อเปรียบเทียบค่า \n",
    "แบบก่อนทำ Hyperparameter tuning\n",
    "\n",
    "31. ทำ Data Visualization ค่า Accuracy, F1 Score, Precision, Recall ของโมเดล 2 ชนิดที่ทำ PCA และ LDA เพื่อเปรียบเทียบค่า \n",
    "แบบหลังทำ Hyperparameter tuning\n",
    "\n"
   ]
  },
  {
   "cell_type": "code",
   "execution_count": null,
   "metadata": {},
   "outputs": [],
   "source": []
  }
 ],
 "metadata": {
  "kernelspec": {
   "display_name": "Python 3",
   "language": "python",
   "name": "python3"
  },
  "language_info": {
   "codemirror_mode": {
    "name": "ipython",
    "version": 3
   },
   "file_extension": ".py",
   "mimetype": "text/x-python",
   "name": "python",
   "nbconvert_exporter": "python",
   "pygments_lexer": "ipython3",
   "version": "3.7.6"
  }
 },
 "nbformat": 4,
 "nbformat_minor": 4
}
