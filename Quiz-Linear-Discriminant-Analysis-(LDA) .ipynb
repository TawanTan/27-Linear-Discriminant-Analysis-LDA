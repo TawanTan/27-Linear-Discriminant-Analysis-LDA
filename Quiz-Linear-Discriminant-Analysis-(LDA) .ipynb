{
 "cells": [
  {
   "cell_type": "code",
   "execution_count": 1,
   "metadata": {},
   "outputs": [],
   "source": [
    "import numpy as np \n",
    "import pandas as pd \n",
    "import seaborn as sns\n",
    "import plotly.express as px\n",
    "import matplotlib.pyplot as plt \n",
    "%matplotlib inline\n",
    "\n",
    "from sklearn.model_selection import train_test_split\n",
    "from sklearn.preprocessing import StandardScaler\n",
    "from sklearn.model_selection import GridSearchCV\n",
    "\n",
    "from sklearn.metrics import accuracy_score, f1_score, precision_score, recall_score \n",
    "from sklearn.metrics import confusion_matrix"
   ]
  },
  {
   "cell_type": "markdown",
   "metadata": {},
   "source": [
    "1. โหลด csv เข้าไปใน Python Pandas\n",
    "\n",
    "2. เขียนโค้ดแสดง หัว10แถว ท้าย10แถว และสุ่ม10แถว\n",
    "\n",
    "3. เช็คว่ามีข้อมูลที่หายไปไหม สามารถจัดการได้ตามความเหมาะสม\n",
    "\n",
    "4. ใช้ info และ describe อธิบายข้อมูลเบื้องต้น\n",
    "\n",
    "5. ใช้ pairplot ดูความสัมพันธ์เบื้องต้นของ features ที่สนใจ\n"
   ]
  },
  {
   "cell_type": "markdown",
   "metadata": {},
   "source": [
    "6. ใช้ displot เพื่อดูการกระจายของแต่ละคอลัมน์\n",
    "\n",
    "7. ใช้ heatmap ดูความสัมพันธ์ของคอลัมน์ที่สนใจ\n",
    "\n",
    "8. สร้าง scatter plot ของความสัมพันธ์ที่มี Correlation สูงสุด\n",
    "\n",
    "9. สร้าง scatter plot ของความสัมพันธ์ที่มี Correlation ต่ำสุด\n",
    "\n",
    "10. สร้าง histogram ของ feature เพื่อดูการกระจายตัวของข้อมูล\n"
   ]
  },
  {
   "cell_type": "markdown",
   "metadata": {},
   "source": [
    "11. สร้าง boxplot เพื่อเช็ค outliers ของแต่ละฟีเจอร์\n",
    "\n",
    "12. จัดการกับ Outliers ได้ตามความเหมาะสม\n",
    "\n",
    "13. สร้าง train/test split ของข้อมูล ด้วย 70:30 ratio \n",
    "\n",
    "14. ทำ Standardization ให้ X_train, X_test\n",
    "\n",
    "15. เลือกชนิดของ Baseline โมเดล 3 ชนิด \n",
    "(ซ้ำกับ PCA 2 ชนิด และ อันใหม่ 1 ชนิด)\n"
   ]
  },
  {
   "cell_type": "markdown",
   "metadata": {},
   "source": [
    "16. เทรนโมเดลทั้ง 3 ชนิด\n",
    "\n",
    "17. วัดผลโมเดล โดยใช้ confusion matrix และ ประเมินผลด้วยคะแนน Accuracy, \n",
    "F1 score, Recall, Precision (ทั้งแบบ micro, macro)\n",
    "\n",
    "18. ทำ hyperparameter tuning ด้วย GridSearchCV\n",
    "\n",
    "19. วัดผลโมเดลใหม่ โดยใช้ confusion matrix และ ประเมินผลด้วยคะแนน Accuracy, \n",
    "F1 score, Recall, Precision (ทั้งแบบ micro, macro)\n",
    "\n",
    "20. ทำ LDA โดยกำหนดให้มี output = 2 components\n"
   ]
  },
  {
   "cell_type": "code",
   "execution_count": null,
   "metadata": {},
   "outputs": [],
   "source": []
  }
 ],
 "metadata": {
  "kernelspec": {
   "display_name": "Python 3",
   "language": "python",
   "name": "python3"
  },
  "language_info": {
   "codemirror_mode": {
    "name": "ipython",
    "version": 3
   },
   "file_extension": ".py",
   "mimetype": "text/x-python",
   "name": "python",
   "nbconvert_exporter": "python",
   "pygments_lexer": "ipython3",
   "version": "3.7.6"
  }
 },
 "nbformat": 4,
 "nbformat_minor": 4
}
